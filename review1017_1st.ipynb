{
  "nbformat": 4,
  "nbformat_minor": 0,
  "metadata": {
    "colab": {
      "provenance": [],
      "authorship_tag": "ABX9TyOzuxGYPGC7cUo6CIfwea3z",
      "include_colab_link": true
    },
    "kernelspec": {
      "name": "python3",
      "display_name": "Python 3"
    },
    "language_info": {
      "name": "python"
    }
  },
  "cells": [
    {
      "cell_type": "markdown",
      "metadata": {
        "id": "view-in-github",
        "colab_type": "text"
      },
      "source": [
        "<a href=\"https://colab.research.google.com/github/Jihyeon3717/first-repository/blob/main/review1017_1st.ipynb\" target=\"_parent\"><img src=\"https://colab.research.google.com/assets/colab-badge.svg\" alt=\"Open In Colab\"/></a>"
      ]
    },
    {
      "cell_type": "code",
      "execution_count": 1,
      "metadata": {
        "colab": {
          "base_uri": "https://localhost:8080/"
        },
        "id": "P9s76ilYdTCf",
        "outputId": "40e4bbaf-019e-499d-e133-78be7794fab0"
      },
      "outputs": [
        {
          "output_type": "stream",
          "name": "stdout",
          "text": [
            "잔고가 100만원 이상인 고객:\n",
            "은행이름: SC은행, 예금주: 구경덕, 계좌번호: 478-29-661219, 잔고: 1,500,000원\n",
            "은행이름: SC은행, 예금주: 김정은, 계좌번호: 343-82-786022, 잔고: 2,000,000원\n",
            "은행이름: SC은행, 예금주: 하경인, 계좌번호: 174-85-984054, 잔고: 8,000,000원\n",
            "500,000원이 입금되었습니다. 현재 잔액은 2,000,000원 입니다.\n",
            "200,000원이 출금되었습니다. 현재 잔액은 1,800,000원 입니다.\n",
            "구경덕님의 입금 내역입니다.\n",
            "500,000원\n",
            "구경덕님의 출금 내역입니다.\n",
            "200,000원\n"
          ]
        }
      ],
      "source": [
        🔑 **PRT(Peer Review Template)**

[V]  **1. 주어진 문제를 해결하는 완성된 코드가 제출되었나요?**

문제해결이 완성된 코드가 제출되었음.
    
[V]  **2. 전체 코드에서 가장 핵심적이거나 가장 복잡하고 이해하기 어려운 부분에 작성된 주석 또는 doc string을 보고 해당 코드가 잘 이해되었나요?**

  # 입금 메서드
    def deposit(self, money):
        if money >= 1:  # 입금은 최소 1원 이상 가능
            self.balance += money
            self.deposit_count += 1  # 입금 횟수 증가
            self.deposit_log.append(money)  # 입금 내역 기록
            print(f"{money:,}원이 입금되었습니다. 현재 잔액은 {self.balance:,}원 입니다.")

            # 입금 횟수가 5회일 때 잔고의 1% 이자 지급
            if self.deposit_count % 5 == 0:
                interest = self.balance * 0.01
                self.balance += interest
                self.deposit_log.append(interest)  # 이자 지급 내역 기록
                print(f'{interest:,}원이 지급되었습니다. 현재 잔액은 {self.balance:,}원 입니다.')
        else:
            print('입금은 최소 1원이상 가능합니다.')

    # 출금 메서드
    def withdraw(self, money):
        if money > self.balance:
            print("잔액 부족으로 출금할 수 없습니다.")
        else:
            self.balance -= money
            self.withdraw_log.append(money)  # 출금 내역 기록
            print(f"{money:,}원이 출금되었습니다. 현재 잔액은 {self.balance:,}원 입니다.")

입출금, 이자 지급 내역 출력 메서드가 핵심이라 생각. 
설명이 필요한 부분에 주석이 간결하게 정리되어 있음. 주석을 보고 코드 이해가 잘 되었다고 판단.

[V]  **3. 에러가 난 부분을 디버깅하여 문제를 “해결한 기록"을 남겼거나 "새로운 시도 
또는 추가 실험"을 수행해봤나요?**

에러 관련해 디버깅 문제 해결 기록은 찾을 수 없어서 문제를 잘 해결해서 결과물 산출했다고 판단.
        
[V]  **4. 회고를 잘 작성했나요?**
회고는 작성되지 않았음.

[V]  **5. 코드가 간결하고 효율적인가요?**
간결하고 효율적으로 작성되었다고 판단됨. 스타일 가이드 (PEP8)를 준수하였는지는 잘 판단이 안되지만 코드 중복을 피해 잘 작성되었다고 생각됨.

---
### 참고 문헌
      
      
