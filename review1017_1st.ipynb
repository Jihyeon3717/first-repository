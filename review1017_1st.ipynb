{
  "nbformat": 4,
  "nbformat_minor": 0,
  "metadata": {
    "colab": {
      "provenance": [],
      "authorship_tag": "ABX9TyOzuxGYPGC7cUo6CIfwea3z",
      "include_colab_link": true
    },
    "kernelspec": {
      "name": "python3",
      "display_name": "Python 3"
    },
    "language_info": {
      "name": "python"
    }
  },
  "cells": [
    {
      "cell_type": "markdown",
      "metadata": {
        "id": "view-in-github",
        "colab_type": "text"
      },
      "source": [
        "<a href=\"https://colab.research.google.com/github/Jihyeon3717/first-repository/blob/main/review1017_1st.ipynb\" target=\"_parent\"><img src=\"https://colab.research.google.com/assets/colab-badge.svg\" alt=\"Open In Colab\"/></a>"
      ]
    },
    {
      "cell_type": "code",
      "execution_count": 1,
      "metadata": {
        "colab": {
          "base_uri": "https://localhost:8080/"
        },
        "id": "P9s76ilYdTCf",
        "outputId": "40e4bbaf-019e-499d-e133-78be7794fab0"
      },
      "outputs": [
        {
          "output_type": "stream",
          "name": "stdout",
          "text": [
            "잔고가 100만원 이상인 고객:\n",
            "은행이름: SC은행, 예금주: 구경덕, 계좌번호: 478-29-661219, 잔고: 1,500,000원\n",
            "은행이름: SC은행, 예금주: 김정은, 계좌번호: 343-82-786022, 잔고: 2,000,000원\n",
            "은행이름: SC은행, 예금주: 하경인, 계좌번호: 174-85-984054, 잔고: 8,000,000원\n",
            "500,000원이 입금되었습니다. 현재 잔액은 2,000,000원 입니다.\n",
            "200,000원이 출금되었습니다. 현재 잔액은 1,800,000원 입니다.\n",
            "구경덕님의 입금 내역입니다.\n",
            "500,000원\n",
            "구경덕님의 출금 내역입니다.\n",
            "200,000원\n"
          ]
        }
      ],
      "source": [
        "import random\n",
        "\n",
        "\n",
        "class Account:\n",
        "    bank_name = \"SC은행\"\n",
        "    account_count = 0\n",
        "\n",
        "    def __init__(self, owner, balance):\n",
        "        self.owner = owner  # 예금주\n",
        "        self.balance = balance  # 초기 잔액\n",
        "        self.account_number = self.generate_account_number()  # 계좌번호 생성\n",
        "        self.deposit_count = 0  # 입금 횟수\n",
        "        self.deposit_log = []  # 입금 내역\n",
        "        self.withdraw_log = []  # 출금 내역\n",
        "        Account.account_count += 1\n",
        "\n",
        "    # 계좌번호를 3자리-2자리-6자리 형태로 랜덤 생성하는 메서드\n",
        "    def generate_account_number(self):\n",
        "        num1 = random.randint(100, 999)  # 3자리\n",
        "        num2 = random.randint(10, 99)    # 2자리\n",
        "        num3 = random.randint(100000, 999999)  # 6자리\n",
        "        return f\"{num1}-{num2}-{num3}\"\n",
        "\n",
        "    # 계좌 정보를 출력하는 메서드\n",
        "    def get_account_num(self):\n",
        "        return self.account_number  # 계좌 번호 반환\n",
        "\n",
        "    # 입금 메서드\n",
        "    def deposit(self, money):\n",
        "        if money >= 1:  # 입금은 최소 1원 이상 가능\n",
        "            self.balance += money\n",
        "            self.deposit_count += 1  # 입금 횟수 증가\n",
        "            self.deposit_log.append(money)  # 입금 내역 기록\n",
        "            print(f\"{money:,}원이 입금되었습니다. 현재 잔액은 {self.balance:,}원 입니다.\")\n",
        "\n",
        "            # 입금 횟수가 5회일 때 잔고의 1% 이자 지급\n",
        "            if self.deposit_count % 5 == 0:\n",
        "                interest = self.balance * 0.01\n",
        "                self.balance += interest\n",
        "                self.deposit_log.append(interest)  # 이자 지급 내역 기록\n",
        "                print(f'{interest:,}원이 지급되었습니다. 현재 잔액은 {self.balance:,}원 입니다.')\n",
        "        else:\n",
        "            print('입금은 최소 1원이상 가능합니다.')\n",
        "\n",
        "    # 출금 메서드\n",
        "    def withdraw(self, money):\n",
        "        if money > self.balance:\n",
        "            print(\"잔액 부족으로 출금할 수 없습니다.\")\n",
        "        else:\n",
        "            self.balance -= money\n",
        "            self.withdraw_log.append(money)  # 출금 내역 기록\n",
        "            print(f\"{money:,}원이 출금되었습니다. 현재 잔액은 {self.balance:,}원 입니다.\")\n",
        "\n",
        "    # 계좌 정보를 출력하는 메서드\n",
        "    def display_info(self):\n",
        "        print(f\"은행이름: {Account.bank_name}, 예금주: {self.owner}, 계좌번호: {self.account_number}, 잔고: {self.balance:,}원\")\n",
        "\n",
        "    # 입금 내역 출력 메서드\n",
        "    def deposit_history(self):\n",
        "        print(f'{self.owner}님의 입금 내역입니다.')\n",
        "        if not self.deposit_log:\n",
        "            print(\"입금 내역이 없습니다.\")\n",
        "        else:\n",
        "            for amount in self.deposit_log:\n",
        "                print(f\"{amount:,}원\")\n",
        "\n",
        "    # 출금 내역 출력 메서드\n",
        "    def withdraw_history(self):\n",
        "        print(f\"{self.owner}님의 출금 내역입니다.\")\n",
        "        if not self.withdraw_log:\n",
        "            print(\"출금 내역이 없습니다.\")\n",
        "        else:\n",
        "            for amount in self.withdraw_log:\n",
        "                print(f\"{amount:,}원\")\n",
        "\n",
        "# 여러 Account 인스턴스를 생성\n",
        "accounts = [\n",
        "    Account(\"구경덕\", 1500000),\n",
        "    Account(\"손지현\", 10000),\n",
        "    Account(\"김정은\", 2000000),\n",
        "    Account(\"하경인\", 8000000)\n",
        "]\n",
        "\n",
        "# 잔고가 100만원 이상인 고객 출력\n",
        "print(\"잔고가 100만원 이상인 고객:\")\n",
        "for account in accounts:\n",
        "    if account.balance >= 1000000:\n",
        "        account.display_info()\n",
        "\n",
        "# 입금 및 출금 내역 테스트\n",
        "accounts[0].deposit(500000)  # 구경덕 계좌에 입금\n",
        "accounts[0].withdraw(200000)  # 구경덕 계좌에서 출금\n",
        "\n",
        "# 입금 및 출금 내역 출력\n",
        "accounts[0].deposit_history()  # 구경덕 계좌의 입금 내역 출력\n",
        "accounts[0].withdraw_history()  # 구경덕 계좌의 출금 내역 출력"
      ]
    }
  ]
}